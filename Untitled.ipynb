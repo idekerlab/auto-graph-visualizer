{
 "cells": [
  {
   "cell_type": "code",
   "execution_count": 10,
   "metadata": {},
   "outputs": [],
   "source": [
    "import os\n",
    "import sys\n",
    "import json\n",
    "import ndex2\n",
    "from ndex2.nice_cx_network import NiceCXNetwork\n",
    "from ndex2.nice_cx_network import DefaultNetworkXFactory\n",
    "import networkx as nx\n",
    "import requests"
   ]
  },
  {
   "cell_type": "code",
   "execution_count": 11,
   "metadata": {},
   "outputs": [],
   "source": [
    "network =  ndex2.create_nice_cx_from_server(server='public.ndexbio.org', uuid='38a9cebf-23dc-11e8-b939-0ac135e8bacf') # (Nodes1127)"
   ]
  },
  {
   "cell_type": "code",
   "execution_count": 12,
   "metadata": {},
   "outputs": [],
   "source": [
    "edge_data=\"\"\n",
    "for e in network.get_edges():\n",
    "    edge_data+=str(e[1]['s'])+\"\\t\"+str(e[1]['t'])+\"\\n\""
   ]
  },
  {
   "cell_type": "code",
   "execution_count": 13,
   "metadata": {},
   "outputs": [],
   "source": [
    "template={\n",
    "          \"algorithm\": \"louvain\",\n",
    "          \"graphdirected\": \"false\",\n",
    "          \"data\": \"\",\n",
    "          \"ipAddress\": \"string\",\n",
    "          \"customParameters\": {\n",
    "            \"additionalProp1\": \"string\",\n",
    "            \"additionalProp2\": \"string\",\n",
    "            \"additionalProp3\": \"string\"\n",
    "          }\n",
    "        }"
   ]
  },
  {
   "cell_type": "code",
   "execution_count": 14,
   "metadata": {},
   "outputs": [],
   "source": [
    "template['data']=edge_data"
   ]
  },
  {
   "cell_type": "code",
   "execution_count": 15,
   "metadata": {},
   "outputs": [
    {
     "name": "stdout",
     "output_type": "stream",
     "text": [
      "Created task. ID: 5f277573-daac-42e8-ba3e-5f67b958e43f\n"
     ]
    }
   ],
   "source": [
    "res = requests.post('http://ddot.ucsd.edu/cd/communitydetection/v1',json=template)\n",
    "print('Created task. ID: {}'.format(res.json()[\"id\"]))"
   ]
  },
  {
   "cell_type": "code",
   "execution_count": 22,
   "metadata": {},
   "outputs": [
    {
     "data": {
      "text/plain": [
       "'complete'"
      ]
     },
     "execution_count": 22,
     "metadata": {},
     "output_type": "execute_result"
    }
   ],
   "source": [
    "res = requests.get(\"http://ddot.ucsd.edu/cd/communitydetection/v1/\"+res.json()['id'])\n",
    "res.json()['status']"
   ]
  },
  {
   "cell_type": "code",
   "execution_count": 29,
   "metadata": {},
   "outputs": [],
   "source": [
    "def communities_from_clusterfile(data):\n",
    "\n",
    "    community = {}\n",
    "    for line in data.split(';'):\n",
    "        slist = line.split(',')\n",
    "        if len(slist) != 3:\n",
    "            #sys.stderr.write(line + ' does not have appropriate number of columns. skipping\\n')\n",
    "            continue\n",
    "\n",
    "        if slist[2].startswith('c-m'):\n",
    "            community.update({int(slist[1]):int(slist[0])})\n",
    "    communities=[community[i] for i in range(len(community))]\n",
    "\n",
    "    return communities"
   ]
  },
  {
   "cell_type": "code",
   "execution_count": 31,
   "metadata": {},
   "outputs": [],
   "source": [
    "communities=communities_from_clusterfile(res.json()['result'])"
   ]
  },
  {
   "cell_type": "code",
   "execution_count": null,
   "metadata": {},
   "outputs": [],
   "source": []
  }
 ],
 "metadata": {
  "kernelspec": {
   "display_name": "Python 3",
   "language": "python",
   "name": "python3"
  },
  "language_info": {
   "codemirror_mode": {
    "name": "ipython",
    "version": 3
   },
   "file_extension": ".py",
   "mimetype": "text/x-python",
   "name": "python",
   "nbconvert_exporter": "python",
   "pygments_lexer": "ipython3",
   "version": "3.6.8"
  }
 },
 "nbformat": 4,
 "nbformat_minor": 4
}
