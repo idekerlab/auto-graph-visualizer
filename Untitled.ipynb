{
 "cells": [
  {
   "cell_type": "code",
   "execution_count": 1,
   "metadata": {},
   "outputs": [],
   "source": [
    "import os\n",
    "import sys\n",
    "import json\n",
    "import ndex2\n",
    "from ndex2.nice_cx_network import NiceCXNetwork\n",
    "from ndex2.nice_cx_network import DefaultNetworkXFactory\n",
    "import networkx as nx"
   ]
  },
  {
   "cell_type": "code",
   "execution_count": 2,
   "metadata": {},
   "outputs": [],
   "source": [
    "network =  ndex2.create_nice_cx_from_server(server='public.ndexbio.org', uuid='38a9cebf-23dc-11e8-b939-0ac135e8bacf') # (Nodes1127)"
   ]
  },
  {
   "cell_type": "code",
   "execution_count": 10,
   "metadata": {},
   "outputs": [],
   "source": [
    "edge_data=''\n",
    "for e in network.get_edges():\n",
    "    edge_data+=str(e[1]['s'])+'\\t'+str(e[1]['t'])+'\\n'"
   ]
  },
  {
   "cell_type": "code",
   "execution_count": 19,
   "metadata": {},
   "outputs": [],
   "source": [
    "def communities_from_clusterfile(inputfile,net):\n",
    "    network = NiceCXNetwork()\n",
    "    network.set_name('clustertocx from ' + str(os.path.basename(os.path.dirname(inputfile))))\n",
    "    with open(inputfile, 'r') as f:\n",
    "        data = f.read()\n",
    "\n",
    "    community = {}\n",
    "    idx=0\n",
    "    for line in data.split(';'):\n",
    "        slist = line.split(',')\n",
    "        if len(slist) != 3:\n",
    "            #sys.stderr.write(line + ' does not have appropriate number of columns. skipping\\n')\n",
    "            continue\n",
    "\n",
    "        if slist[2].startswith('c-m'):\n",
    "            community.update({list(net.get_edges())[idx][1]['s']:int(slist[0])})\n",
    "            community.update({list(net.get_edges())[idx][1]['t']:int(slist[1])})\n",
    "            idx+=1\n",
    "    communities=[community[i] for i in range(len(community))]\n",
    "\n",
    "    return communities"
   ]
  },
  {
   "cell_type": "code",
   "execution_count": 20,
   "metadata": {},
   "outputs": [],
   "source": [
    "net=get_nice_cx_network_from_clusterfile(\"rest_comdetec_res.json\",network)"
   ]
  }
 ],
 "metadata": {
  "kernelspec": {
   "display_name": "Python 3",
   "language": "python",
   "name": "python3"
  },
  "language_info": {
   "codemirror_mode": {
    "name": "ipython",
    "version": 3
   },
   "file_extension": ".py",
   "mimetype": "text/x-python",
   "name": "python",
   "nbconvert_exporter": "python",
   "pygments_lexer": "ipython3",
   "version": "3.6.8"
  }
 },
 "nbformat": 4,
 "nbformat_minor": 4
}
