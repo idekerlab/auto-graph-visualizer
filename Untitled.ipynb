{
 "cells": [
  {
   "cell_type": "code",
   "execution_count": 3,
   "metadata": {},
   "outputs": [],
   "source": [
    "import os\n",
    "import sys\n",
    "import json\n",
    "import ndex2\n",
    "from ndex2.nice_cx_network import NiceCXNetwork\n",
    "from ndex2.nice_cx_network import DefaultNetworkXFactory\n",
    "import networkx as nx"
   ]
  },
  {
   "cell_type": "code",
   "execution_count": 4,
   "metadata": {},
   "outputs": [],
   "source": [
    "def get_nice_cx_network_from_clusterfile(inputfile):\n",
    "    \"\"\"\n",
    "    :param inputfile:\n",
    "    :return:\n",
    "    \"\"\"\n",
    "    network = NiceCXNetwork()\n",
    "    network.set_name('clustertocx from ' + str(os.path.basename(os.path.dirname(inputfile))))\n",
    "    with open(inputfile, 'r') as f:\n",
    "        data = f.read()\n",
    "\n",
    "    node_map = {}\n",
    "    protein_map = {}\n",
    "    for line in data.split(';'):\n",
    "        slist = line.split(',')\n",
    "        if len(slist) != 3:\n",
    "            sys.stderr.write(line + ' does not have appropriate number of columns. skipping\\n')\n",
    "            continue\n",
    "\n",
    "        if slist[2].startswith('c-c'):\n",
    "            target_is_protein = False\n",
    "        else:\n",
    "            target_is_protein = True\n",
    "\n",
    "        if slist[0] not in node_map:\n",
    "            source_node_id = network.create_node(slist[0])\n",
    "            node_map[slist[0]] = source_node_id\n",
    "            network.add_node_attribute(property_of=source_node_id, name='suid', values=int(slist[0]), type='long')\n",
    "            network.add_node_attribute(property_of=source_node_id, name='type', values='term', type='string')\n",
    "        else:\n",
    "            source_node_id = node_map[slist[0]]\n",
    "\n",
    "        if target_is_protein:\n",
    "            if slist[0] not in protein_map:\n",
    "                protein_map[slist[0]] = set()\n",
    "                protein_map[slist[0]].add(slist[1])\n",
    "            else:\n",
    "                if slist[1] not in protein_map[slist[0]]:\n",
    "                    protein_map[slist[0]].add(slist[1])\n",
    "        else:\n",
    "            target_node_id = network.create_node(slist[1])\n",
    "            network.create_edge(source_node_id, target_node_id, 'Child-Parent')\n",
    "            network.add_node_attribute(property_of=target_node_id, name='suid', values=int(slist[1]), type='long')\n",
    "            network.add_node_attribute(property_of=target_node_id, name='type', values='term', type='string')\n",
    "            node_map[slist[1]] = target_node_id\n",
    "\n",
    "    for nodename in protein_map:\n",
    "        genelist = protein_map[nodename]\n",
    "        if len(genelist) > 0:\n",
    "            genesymbol_list = []\n",
    "            for entry in genelist:\n",
    "                genesymbol_list.append(entry)\n",
    "            network.add_node_attribute(property_of=node_map[nodename], name='member', values=genesymbol_list,\n",
    "                                       type='list_of_string')\n",
    "            network.add_node_attribute(property_of=node_map[nodename], name='type', values='complex', type='string',\n",
    "                                       overwrite=True)\n",
    "    del node_map\n",
    "    del protein_map\n",
    "\n",
    "    return network\n"
   ]
  },
  {
   "cell_type": "code",
   "execution_count": null,
   "metadata": {},
   "outputs": [],
   "source": []
  }
 ],
 "metadata": {
  "kernelspec": {
   "display_name": "Python 3",
   "language": "python",
   "name": "python3"
  },
  "language_info": {
   "codemirror_mode": {
    "name": "ipython",
    "version": 3
   },
   "file_extension": ".py",
   "mimetype": "text/x-python",
   "name": "python",
   "nbconvert_exporter": "python",
   "pygments_lexer": "ipython3",
   "version": "3.7.1"
  }
 },
 "nbformat": 4,
 "nbformat_minor": 2
}
