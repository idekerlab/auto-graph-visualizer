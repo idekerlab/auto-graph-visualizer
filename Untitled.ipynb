{
 "cells": [
  {
   "cell_type": "code",
   "execution_count": 68,
   "metadata": {},
   "outputs": [],
   "source": [
    "import os\n",
    "import sys\n",
    "import json\n",
    "import ndex2\n",
    "from ndex2.nice_cx_network import NiceCXNetwork\n",
    "from ndex2.nice_cx_network import DefaultNetworkXFactory\n",
    "import networkx as nx\n",
    "import requests"
   ]
  },
  {
   "cell_type": "code",
   "execution_count": 69,
   "metadata": {},
   "outputs": [],
   "source": [
    "network =  ndex2.create_nice_cx_from_server(server='public.ndexbio.org', uuid='1f6aa1eb-6e0e-11e9-848d-0ac135e8bacf') # (Nodes1127)"
   ]
  },
  {
   "cell_type": "code",
   "execution_count": 70,
   "metadata": {},
   "outputs": [],
   "source": [
    "tmp=set()\n",
    "for e in network.get_edges():\n",
    "    tmp.add(e[1]['s'])\n",
    "    tmp.add(e[1]['t'])\n",
    "tmp_dict={}\n",
    "for i,j in enumerate(tmp):\n",
    "    tmp_dict.update({j:i})"
   ]
  },
  {
   "cell_type": "code",
   "execution_count": 71,
   "metadata": {},
   "outputs": [],
   "source": [
    "edge_data=\"\"\n",
    "for e in network.get_edges():\n",
    "    edge_data+=str(tmp_dict[e[1]['s']])+\"\\t\"+str(tmp_dict[e[1]['t']])+\"\\n\""
   ]
  },
  {
   "cell_type": "code",
   "execution_count": 72,
   "metadata": {},
   "outputs": [],
   "source": [
    "template={\n",
    "          \"algorithm\": \"louvain\",\n",
    "          \"graphdirected\": \"false\",\n",
    "          \"data\": \"\",\n",
    "          \"ipAddress\": \"string\",\n",
    "          \"customParameters\": {\n",
    "            \"additionalProp1\": \"string\",\n",
    "            \"additionalProp2\": \"string\",\n",
    "            \"additionalProp3\": \"string\"\n",
    "          }\n",
    "        }"
   ]
  },
  {
   "cell_type": "code",
   "execution_count": 73,
   "metadata": {},
   "outputs": [],
   "source": [
    "template['data']=edge_data"
   ]
  },
  {
   "cell_type": "code",
   "execution_count": 74,
   "metadata": {},
   "outputs": [
    {
     "name": "stdout",
     "output_type": "stream",
     "text": [
      "Created task. ID: 455ec33d-c89a-4fa7-b501-ff464b0ea174\n"
     ]
    }
   ],
   "source": [
    "res = requests.post('http://ddot.ucsd.edu/cd/communitydetection/v1',json=template)\n",
    "print('Created task. ID: {}'.format(res.json()[\"id\"]))"
   ]
  },
  {
   "cell_type": "code",
   "execution_count": 78,
   "metadata": {},
   "outputs": [
    {
     "data": {
      "text/plain": [
       "'complete'"
      ]
     },
     "execution_count": 78,
     "metadata": {},
     "output_type": "execute_result"
    }
   ],
   "source": [
    "res = requests.get(\"http://ddot.ucsd.edu/cd/communitydetection/v1/\"+res.json()['id'])\n",
    "res.json()['status']"
   ]
  },
  {
   "cell_type": "code",
   "execution_count": 79,
   "metadata": {},
   "outputs": [],
   "source": [
    "if(res.json()['status']!='complete'):\n",
    "    print(\"*********    Calculating!!!!    Wait!!!!!     *********\\n\\n\\n\")"
   ]
  },
  {
   "cell_type": "code",
   "execution_count": 108,
   "metadata": {},
   "outputs": [],
   "source": [
    "class UnionFind:\n",
    "    def __init__(self, n):\n",
    "        # negative : root\n",
    "        # non-negative : rank\n",
    "        self.table = [-1] * n\n",
    " \n",
    "    def _root(self, x):\n",
    "        if self.table[x] < 0:\n",
    "            return x\n",
    "        else:\n",
    "            self.table[x] = self._root(self.table[x])\n",
    "            return self.table[x]\n",
    " \n",
    "    def find(self, x, y):\n",
    "        return self._root(x) == self._root(y)\n",
    " \n",
    "    def unite(self, x, y):\n",
    "        r1 = self._root(x)\n",
    "        r2 = self._root(y)\n",
    "        if r1 == r2:\n",
    "            return\n",
    "        d1 = self.table[r1]\n",
    "        d2 = self.table[r2]\n",
    "        if d1 <= d2:\n",
    "            self.table[r2] = r1\n",
    "            if d1 == d2:\n",
    "                self.table[r1] -= 1\n",
    "        else:\n",
    "            self.table[r1] = r2\n"
   ]
  },
  {
   "cell_type": "code",
   "execution_count": 123,
   "metadata": {},
   "outputs": [],
   "source": [
    "def communities_from_clusterfile(data,rank):\n",
    "    \n",
    "    hierarchy = 0\n",
    "    clist = []\n",
    "    flag = True\n",
    "    node_list=set()\n",
    "    for line in reversed(data.split(';')):\n",
    "        slist = line.split(',')\n",
    "        if len(slist) != 3:\n",
    "            continue\n",
    "        if slist[0] in clist:\n",
    "            hierarchy += 1\n",
    "            clist.clear()\n",
    "        else:\n",
    "            clist.append(slist[1])\n",
    "        if slist[2].startswith('c-m'):\n",
    "            node_list.add(int(slist[1]))\n",
    "        if hierarchy == rank:\n",
    "            try:\n",
    "                UF.unite(int(slist[0]),int(slist[1]))\n",
    "            except NameError:\n",
    "                UF = UnionFind(int(slist[0])+1)\n",
    "                UF.unite(int(slist[0]),int(slist[1]))\n",
    "    return UF.table[0:len(node_list)]"
   ]
  },
  {
   "cell_type": "code",
   "execution_count": 125,
   "metadata": {},
   "outputs": [],
   "source": [
    "communities=communities_from_clusterfile(res.json()['result'],1)"
   ]
  },
  {
   "cell_type": "code",
   "execution_count": 23,
   "metadata": {},
   "outputs": [],
   "source": [
    "import sys\n",
    "import json\n",
    "import ndex2\n",
    "from auto_graph_visualizer.utils import *\n",
    "from auto_graph_visualizer.visualizer import AutoGraphVisualizer"
   ]
  },
  {
   "cell_type": "code",
   "execution_count": 24,
   "metadata": {},
   "outputs": [],
   "source": [
    "options = {\n",
    "        \"graph_name\": \"test_network\",\n",
    "        \"output_file_name\": \"test_out\",\n",
    "        \"algorithm\": \"REST\",\n",
    "        \"color_palette\": \"hls\",\n",
    "        \"nodesize\": \"betweenness\",\n",
    "        \"maxnodesize\": 1000000,\n",
    "        \"density\": \"normal\",\n",
    "        \"positions\": \"fa\",\n",
    "    }\n",
    "\n"
   ]
  },
  {
   "cell_type": "code",
   "execution_count": 25,
   "metadata": {},
   "outputs": [],
   "source": [
    "viz = AutoGraphVisualizer(options,res.json()['result'])"
   ]
  },
  {
   "cell_type": "code",
   "execution_count": 26,
   "metadata": {},
   "outputs": [
    {
     "name": "stdout",
     "output_type": "stream",
     "text": [
      "Generating CX\n",
      "Name: BioGRID: Protein-Protein Interactions (HIV-1)\n",
      "Nodes: 1136\n",
      "Edges: 1324\n",
      "Node Attributes: 3323\n",
      "Edge Attributes: 9268\n",
      "\n"
     ]
    },
    {
     "name": "stderr",
     "output_type": "stream",
     "text": [
      "100%|██████████| 2000/2000 [00:54<00:00, 36.79it/s]\n"
     ]
    },
    {
     "name": "stdout",
     "output_type": "stream",
     "text": [
      "BarnesHut Approximation  took  14.93  seconds\n",
      "Repulsion forces  took  33.70  seconds\n",
      "Gravitational forces  took  0.36  seconds\n",
      "Attraction forces  took  0.05  seconds\n",
      "AdjustSpeedAndApplyForces step  took  2.03  seconds\n",
      "10\n",
      "4\n"
     ]
    },
    {
     "ename": "ValueError",
     "evalue": "-1 is not in list",
     "output_type": "error",
     "traceback": [
      "\u001b[0;31m---------------------------------------------------------------------------\u001b[0m",
      "\u001b[0;31mValueError\u001b[0m                                Traceback (most recent call last)",
      "\u001b[0;32m<ipython-input-26-ff95b74e1d1b>\u001b[0m in \u001b[0;36m<module>\u001b[0;34m\u001b[0m\n\u001b[1;32m      1\u001b[0m \u001b[0mcx_network\u001b[0m \u001b[0;34m=\u001b[0m \u001b[0mnetwork\u001b[0m\u001b[0;34m.\u001b[0m\u001b[0mto_cx\u001b[0m\u001b[0;34m(\u001b[0m\u001b[0;34m)\u001b[0m\u001b[0;34m\u001b[0m\u001b[0;34m\u001b[0m\u001b[0m\n\u001b[1;32m      2\u001b[0m \u001b[0;34m\u001b[0m\u001b[0m\n\u001b[0;32m----> 3\u001b[0;31m \u001b[0mcxobj\u001b[0m \u001b[0;34m=\u001b[0m \u001b[0mviz\u001b[0m\u001b[0;34m.\u001b[0m\u001b[0mgenerate_viz\u001b[0m\u001b[0;34m(\u001b[0m\u001b[0mcx_network\u001b[0m\u001b[0;34m)\u001b[0m\u001b[0;34m\u001b[0m\u001b[0;34m\u001b[0m\u001b[0m\n\u001b[0m",
      "\u001b[0;32m/workdir/auto_graph_visualizer/visualizer.py\u001b[0m in \u001b[0;36mgenerate_viz\u001b[0;34m(self, cx_network)\u001b[0m\n\u001b[1;32m     68\u001b[0m         \u001b[0mncx_from_x\u001b[0m \u001b[0;34m=\u001b[0m \u001b[0mndex2\u001b[0m\u001b[0;34m.\u001b[0m\u001b[0mcreate_nice_cx_from_networkx\u001b[0m\u001b[0;34m(\u001b[0m\u001b[0mG_nx\u001b[0m\u001b[0;34m)\u001b[0m\u001b[0;34m\u001b[0m\u001b[0;34m\u001b[0m\u001b[0m\n\u001b[1;32m     69\u001b[0m \u001b[0;34m\u001b[0m\u001b[0m\n\u001b[0;32m---> 70\u001b[0;31m         \u001b[0mself\u001b[0m\u001b[0;34m.\u001b[0m\u001b[0m__add_ncxattributes\u001b[0m\u001b[0;34m(\u001b[0m\u001b[0mncx_from_x\u001b[0m\u001b[0;34m,\u001b[0m \u001b[0mg_status\u001b[0m\u001b[0;34m,\u001b[0m \u001b[0mcertesian\u001b[0m\u001b[0;34m,\u001b[0m \u001b[0mself\u001b[0m\u001b[0;34m.\u001b[0m\u001b[0moptions\u001b[0m\u001b[0;34m)\u001b[0m\u001b[0;34m\u001b[0m\u001b[0;34m\u001b[0m\u001b[0m\n\u001b[0m\u001b[1;32m     71\u001b[0m \u001b[0;34m\u001b[0m\u001b[0m\n\u001b[1;32m     72\u001b[0m         \u001b[0mcxobj\u001b[0m \u001b[0;34m=\u001b[0m \u001b[0mncx_from_x\u001b[0m\u001b[0;34m.\u001b[0m\u001b[0mto_cx\u001b[0m\u001b[0;34m(\u001b[0m\u001b[0;34m)\u001b[0m\u001b[0;34m\u001b[0m\u001b[0;34m\u001b[0m\u001b[0m\n",
      "\u001b[0;32m/workdir/auto_graph_visualizer/visualizer.py\u001b[0m in \u001b[0;36m__add_ncxattributes\u001b[0;34m(self, ncx, g_status, certesian, options)\u001b[0m\n\u001b[1;32m    140\u001b[0m \u001b[0;34m\u001b[0m\u001b[0m\n\u001b[1;32m    141\u001b[0m         colors = communityToColors(\n\u001b[0;32m--> 142\u001b[0;31m             options[\"color_palette\"], g_status.e_community)\n\u001b[0m\u001b[1;32m    143\u001b[0m \u001b[0;34m\u001b[0m\u001b[0m\n\u001b[1;32m    144\u001b[0m         \u001b[0;32mfor\u001b[0m \u001b[0mi\u001b[0m \u001b[0;32min\u001b[0m \u001b[0mrange\u001b[0m\u001b[0;34m(\u001b[0m\u001b[0mg_status\u001b[0m\u001b[0;34m.\u001b[0m\u001b[0mgraph\u001b[0m\u001b[0;34m.\u001b[0m\u001b[0mecount\u001b[0m\u001b[0;34m(\u001b[0m\u001b[0;34m)\u001b[0m\u001b[0;34m)\u001b[0m\u001b[0;34m:\u001b[0m\u001b[0;34m\u001b[0m\u001b[0;34m\u001b[0m\u001b[0m\n",
      "\u001b[0;32m/workdir/auto_graph_visualizer/utils.py\u001b[0m in \u001b[0;36mcommunityToColors\u001b[0;34m(cp, members)\u001b[0m\n\u001b[1;32m     60\u001b[0m \u001b[0;34m\u001b[0m\u001b[0m\n\u001b[1;32m     61\u001b[0m     \u001b[0;32mfor\u001b[0m \u001b[0mi\u001b[0m \u001b[0;32min\u001b[0m \u001b[0mrange\u001b[0m\u001b[0;34m(\u001b[0m\u001b[0mnum_members\u001b[0m\u001b[0;34m)\u001b[0m\u001b[0;34m:\u001b[0m\u001b[0;34m\u001b[0m\u001b[0;34m\u001b[0m\u001b[0m\n\u001b[0;32m---> 62\u001b[0;31m         \u001b[0mnewcolor\u001b[0m \u001b[0;34m=\u001b[0m \u001b[0mcolorpalette\u001b[0m\u001b[0;34m[\u001b[0m\u001b[0munique_communities\u001b[0m\u001b[0;34m.\u001b[0m\u001b[0mindex\u001b[0m\u001b[0;34m(\u001b[0m\u001b[0mmembers\u001b[0m\u001b[0;34m[\u001b[0m\u001b[0mi\u001b[0m\u001b[0;34m]\u001b[0m\u001b[0;34m)\u001b[0m\u001b[0;34m]\u001b[0m\u001b[0;34m\u001b[0m\u001b[0;34m\u001b[0m\u001b[0m\n\u001b[0m\u001b[1;32m     63\u001b[0m         \u001b[0;32mif\u001b[0m\u001b[0;34m(\u001b[0m\u001b[0mmembers\u001b[0m\u001b[0;34m[\u001b[0m\u001b[0mi\u001b[0m\u001b[0;34m]\u001b[0m \u001b[0;34m==\u001b[0m \u001b[0;34m-\u001b[0m\u001b[0;36m1\u001b[0m\u001b[0;34m)\u001b[0m\u001b[0;34m:\u001b[0m\u001b[0;34m\u001b[0m\u001b[0;34m\u001b[0m\u001b[0m\n\u001b[1;32m     64\u001b[0m             \u001b[0mnewcolor\u001b[0m \u001b[0;34m=\u001b[0m \u001b[0mbasecolor\u001b[0m\u001b[0;34m\u001b[0m\u001b[0;34m\u001b[0m\u001b[0m\n",
      "\u001b[0;31mValueError\u001b[0m: -1 is not in list"
     ]
    }
   ],
   "source": [
    "cx_network = network.to_cx() \n",
    "    \n",
    "cxobj = viz.generate_viz(cx_network)"
   ]
  },
  {
   "cell_type": "code",
   "execution_count": null,
   "metadata": {},
   "outputs": [],
   "source": [
    "from py2cytoscape import cyrest\n",
    "\n",
    "# This should be changed to your host IP\n",
    "host_ip = '192.168.1.47'\n",
    "cytoscape=cyrest.cyclient(host=host_ip)\n",
    "cytoscape.version()\n",
    "cytoscape.status()"
   ]
  },
  {
   "cell_type": "code",
   "execution_count": null,
   "metadata": {},
   "outputs": [],
   "source": [
    "cytoscape.session.new()"
   ]
  },
  {
   "cell_type": "code",
   "execution_count": null,
   "metadata": {},
   "outputs": [],
   "source": [
    "import requests\n",
    "\n",
    "cyrest_url = 'http://' + host_ip + ':1234/cyndex2/v1/networks/cx'\n",
    "print(cyrest_url)\n",
    "response = requests.post(cyrest_url, data=json.dumps(cxobj))\n",
    "print(response.json())"
   ]
  },
  {
   "cell_type": "code",
   "execution_count": null,
   "metadata": {},
   "outputs": [],
   "source": []
  }
 ],
 "metadata": {
  "kernelspec": {
   "display_name": "Python 3",
   "language": "python",
   "name": "python3"
  },
  "language_info": {
   "codemirror_mode": {
    "name": "ipython",
    "version": 3
   },
   "file_extension": ".py",
   "mimetype": "text/x-python",
   "name": "python",
   "nbconvert_exporter": "python",
   "pygments_lexer": "ipython3",
   "version": "3.6.8"
  }
 },
 "nbformat": 4,
 "nbformat_minor": 4
}
