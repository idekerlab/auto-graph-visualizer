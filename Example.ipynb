{
 "cells": [
  {
   "cell_type": "code",
   "execution_count": 1,
   "metadata": {},
   "outputs": [],
   "source": [
    "import sys\n",
    "import json\n",
    "import ndex2\n",
    "from auto_graph_visualizer.utils import *\n",
    "from auto_graph_visualizer.visualizer import AutoGraphVisualizer"
   ]
  },
  {
   "cell_type": "code",
   "execution_count": 2,
   "metadata": {},
   "outputs": [],
   "source": [
    "nice_cx_network =  ndex2.create_nice_cx_from_server(server='public.ndexbio.org', uuid='38a9cebf-23dc-11e8-b939-0ac135e8bacf') # (Nodes1127)"
   ]
  },
  {
   "cell_type": "markdown",
   "metadata": {},
   "source": [
    " # Create visualizer instance"
   ]
  },
  {
   "cell_type": "code",
   "execution_count": 3,
   "metadata": {},
   "outputs": [],
   "source": [
    "\n",
    "options = {\n",
    "        \"graph_name\": \"test_network\",\n",
    "        \"output_file_name\": \"test_out\",\n",
    "        \"algorithm\": \"greedy\",\n",
    "        \"color_palette\": \"hls\",\n",
    "        \"nodesize\": \"betweenness\",\n",
    "        \"maxnodesize\": 1000000,\n",
    "        \"density\": \"normal\",\n",
    "        \"positions\": \"fa\",\n",
    "    }\n",
    "\n",
    "viz = AutoGraphVisualizer(options)"
   ]
  },
  {
   "cell_type": "markdown",
   "metadata": {},
   "source": [
    "# Generate visualization"
   ]
  },
  {
   "cell_type": "code",
   "execution_count": 4,
   "metadata": {},
   "outputs": [
    {
     "name": "stderr",
     "output_type": "stream",
     "text": [
      "\r",
      "  0%|          | 0/2000 [00:00<?, ?it/s]"
     ]
    },
    {
     "name": "stdout",
     "output_type": "stream",
     "text": [
      "Generating CX\n",
      "Name: BioGRID: Protein-Protein Interactions (HIV-1)\n",
      "Nodes: 1136\n",
      "Edges: 1324\n",
      "Node Attributes: 3323\n",
      "Edge Attributes: 9268\n",
      "\n"
     ]
    },
    {
     "name": "stderr",
     "output_type": "stream",
     "text": [
      "100%|██████████| 2000/2000 [00:15<00:00, 131.94it/s]\n"
     ]
    },
    {
     "name": "stdout",
     "output_type": "stream",
     "text": [
      "BarnesHut Approximation  took  5.69  seconds\n",
      "Repulsion forces  took  8.34  seconds\n",
      "Gravitational forces  took  0.09  seconds\n",
      "Attraction forces  took  0.02  seconds\n",
      "AdjustSpeedAndApplyForces step  took  0.46  seconds\n",
      "Generating CX\n"
     ]
    }
   ],
   "source": [
    "cx_network = nice_cx_network.to_cx() \n",
    "    \n",
    "cxobj = viz.generate_viz(cx_network)"
   ]
  },
  {
   "cell_type": "markdown",
   "metadata": {},
   "source": [
    "# py2cytoscape basic setup\n",
    "## Setting up py2cytoscape client\n",
    "\n",
    "Many of the Legacy APIs are deprecated. Check this document as the reference:\n",
    "\n",
    "https://py2cytoscape.readthedocs.io/en/latest/\n",
    "\n",
    "### For native version users (running from host)\n",
    "You don't have to specify IP since you are running both Jupyter and Cytoscape form the same host\n",
    "\n",
    "### For Docker users\n",
    "You shoulod check the IP address of your host system (i.e., workstation's IP) and pass it to the client."
   ]
  },
  {
   "cell_type": "code",
   "execution_count": 5,
   "metadata": {},
   "outputs": [
    {
     "name": "stdout",
     "output_type": "stream",
     "text": [
      "apiVersion v1\n",
      "cytoscapeVersion 3.7.2\n",
      "CyREST online!\n"
     ]
    }
   ],
   "source": [
    "from py2cytoscape import cyrest\n",
    "\n",
    "# This should be changed to your host IP\n",
    "host_ip = '127.0.0.1'\n",
    "cytoscape=cyrest.cyclient(host=host_ip)\n",
    "cytoscape.version()\n",
    "cytoscape.status()"
   ]
  },
  {
   "cell_type": "markdown",
   "metadata": {},
   "source": [
    "## Delete current session and start a new one"
   ]
  },
  {
   "cell_type": "code",
   "execution_count": 6,
   "metadata": {},
   "outputs": [],
   "source": [
    "cytoscape.session.new()"
   ]
  },
  {
   "cell_type": "markdown",
   "metadata": {},
   "source": [
    "## Send to Cytoscape"
   ]
  },
  {
   "cell_type": "code",
   "execution_count": 7,
   "metadata": {},
   "outputs": [
    {
     "name": "stdout",
     "output_type": "stream",
     "text": [
      "http://127.0.0.1:1234/cyndex2/v1/networks/cx\n",
      "{'data': {'suid': 38706, 'uuid': ''}, 'errors': []}\n"
     ]
    }
   ],
   "source": [
    "import requests\n",
    "\n",
    "cyrest_url = 'http://' + host_ip + ':1234/cyndex2/v1/networks/cx'\n",
    "print(cyrest_url)\n",
    "response = requests.post(cyrest_url, data=json.dumps(cxobj))\n",
    "print(response.json())"
   ]
  },
  {
   "cell_type": "code",
   "execution_count": 8,
   "metadata": {},
   "outputs": [
    {
     "data": {
      "application/vnd.jupyter.widget-view+json": {
       "model_id": "4bc2f08946504959acf8fbd3a69cdeb7",
       "version_major": 2,
       "version_minor": 0
      },
      "text/plain": [
       "Cytoscape(data=[{'numberVerification': [{'longNumber': 281474976710655}]}, {'metaData': [{'name': 'nodes', 'el…"
      ]
     },
     "metadata": {},
     "output_type": "display_data"
    }
   ],
   "source": [
    "from cyjupyter import Cytoscape\n",
    "Cytoscape(data=cxobj , format=\"cx\")"
   ]
  },
  {
   "cell_type": "code",
   "execution_count": null,
   "metadata": {},
   "outputs": [],
   "source": []
  }
 ],
 "metadata": {
  "kernelspec": {
   "display_name": "Python 3",
   "language": "python",
   "name": "python3"
  },
  "language_info": {
   "codemirror_mode": {
    "name": "ipython",
    "version": 3
   },
   "file_extension": ".py",
   "mimetype": "text/x-python",
   "name": "python",
   "nbconvert_exporter": "python",
   "pygments_lexer": "ipython3",
   "version": "3.7.1"
  }
 },
 "nbformat": 4,
 "nbformat_minor": 4
}
