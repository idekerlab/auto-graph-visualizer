{
 "cells": [
  {
   "cell_type": "code",
   "execution_count": 1,
   "metadata": {},
   "outputs": [],
   "source": [
    "import os\n",
    "import sys\n",
    "import json\n",
    "import ndex2\n",
    "from ndex2.nice_cx_network import NiceCXNetwork\n",
    "from ndex2.nice_cx_network import DefaultNetworkXFactory\n",
    "import networkx as nx\n",
    "import requests"
   ]
  },
  {
   "cell_type": "code",
   "execution_count": 2,
   "metadata": {},
   "outputs": [],
   "source": [
    "network =  ndex2.create_nice_cx_from_server(server='public.ndexbio.org', uuid='38a9cebf-23dc-11e8-b939-0ac135e8bacf') # (Nodes1127)"
   ]
  },
  {
   "cell_type": "code",
   "execution_count": 3,
   "metadata": {},
   "outputs": [],
   "source": [
    "tmp=set()\n",
    "for e in network.get_edges():\n",
    "    tmp.add(e[1]['s'])\n",
    "    tmp.add(e[1]['t'])\n",
    "tmp_dict={}\n",
    "for i,j in enumerate(tmp):\n",
    "    tmp_dict.update({j:i})"
   ]
  },
  {
   "cell_type": "code",
   "execution_count": 4,
   "metadata": {},
   "outputs": [],
   "source": [
    "edge_data=\"\"\n",
    "for e in network.get_edges():\n",
    "    edge_data+=str(tmp_dict[e[1]['s']])+\"\\t\"+str(tmp_dict[e[1]['t']])+\"\\n\""
   ]
  },
  {
   "cell_type": "code",
   "execution_count": 5,
   "metadata": {},
   "outputs": [],
   "source": [
    "template={\n",
    "          \"algorithm\": \"louvain\",\n",
    "          \"graphdirected\": \"false\",\n",
    "          \"data\": \"\",\n",
    "          \"ipAddress\": \"string\",\n",
    "          \"customParameters\": {\n",
    "            \"additionalProp1\": \"string\",\n",
    "            \"additionalProp2\": \"string\",\n",
    "            \"additionalProp3\": \"string\"\n",
    "          }\n",
    "        }"
   ]
  },
  {
   "cell_type": "code",
   "execution_count": 6,
   "metadata": {},
   "outputs": [],
   "source": [
    "template['data']=edge_data"
   ]
  },
  {
   "cell_type": "code",
   "execution_count": 7,
   "metadata": {},
   "outputs": [
    {
     "name": "stdout",
     "output_type": "stream",
     "text": [
      "Created task. ID: 9218f2c7-ba27-4bf8-942f-c13707feb1bd\n"
     ]
    }
   ],
   "source": [
    "res = requests.post('http://ddot.ucsd.edu/cd/communitydetection/v1',json=template)\n",
    "print('Created task. ID: {}'.format(res.json()[\"id\"]))"
   ]
  },
  {
   "cell_type": "code",
   "execution_count": 13,
   "metadata": {},
   "outputs": [
    {
     "data": {
      "text/plain": [
       "'complete'"
      ]
     },
     "execution_count": 13,
     "metadata": {},
     "output_type": "execute_result"
    }
   ],
   "source": [
    "res = requests.get(\"http://ddot.ucsd.edu/cd/communitydetection/v1/\"+res.json()['id'])\n",
    "res.json()['status']"
   ]
  },
  {
   "cell_type": "code",
   "execution_count": 14,
   "metadata": {},
   "outputs": [],
   "source": [
    "if(res.json()['status']!='complete'):\n",
    "    print(\"*********    Calculating!!!!    Wait!!!!!     *********\\n\\n\\n\")"
   ]
  },
  {
   "cell_type": "code",
   "execution_count": 15,
   "metadata": {},
   "outputs": [],
   "source": [
    "class UnionFind:\n",
    "    def __init__(self, n):\n",
    "        # negative : root\n",
    "        # non-negative : rank\n",
    "        self.table = [-1] * n\n",
    " \n",
    "    def _root(self, x):\n",
    "        if self.table[x] < 0:\n",
    "            #print(x)\n",
    "            return x\n",
    "        else:\n",
    "            self.table[x] = self._root(self.table[x])\n",
    "            return self.table[x]\n",
    " \n",
    "    def find(self, x, y):\n",
    "        return self._root(x) == self._root(y)\n",
    " \n",
    "    def unite(self, x, y):\n",
    "        r1 = self._root(x)\n",
    "        r2 = self._root(y)\n",
    "        if r1 == r2:\n",
    "            return\n",
    "        d1 = self.table[r1]\n",
    "        d2 = self.table[r2]\n",
    "        if d1 <= d2:\n",
    "            self.table[r2] = r1\n",
    "            if d1 == d2:\n",
    "                self.table[r1] -= 1\n",
    "        else:\n",
    "            self.table[r1] = r2\n"
   ]
  },
  {
   "cell_type": "code",
   "execution_count": 18,
   "metadata": {},
   "outputs": [],
   "source": [
    "def communities_from_clusterfile(data,rank):\n",
    "    hierarchy = 0\n",
    "    clist = []\n",
    "    flag = True\n",
    "    node_list=set()\n",
    "    UF=UnionFind(int(data.split(';')[-2].split(',')[0]))\n",
    "    for line in reversed(data.split(';')):\n",
    "        slist = line.split(',')\n",
    "        if len(slist) != 3:\n",
    "            continue\n",
    "        if slist[0] in clist:\n",
    "            hierarchy += 1\n",
    "            clist.clear()\n",
    "        else:\n",
    "            clist.append(slist[1])\n",
    "        if slist[2].startswith('c-m'):\n",
    "            node_list.add(int(slist[1]))\n",
    "        \n",
    "        if hierarchy >= rank:\n",
    "            UF.unite(int(slist[0]),int(slist[1]))\n",
    "    if hierarchy < rank:\n",
    "        print(\"Your rank is larger than hierarchy\\n\")\n",
    "        sys.exit()\n",
    "    print(\"max rank = \", hierarchy)\n",
    "    return UF.table[0:len(node_list)]"
   ]
  },
  {
   "cell_type": "code",
   "execution_count": null,
   "metadata": {},
   "outputs": [],
   "source": []
  },
  {
   "cell_type": "code",
   "execution_count": 19,
   "metadata": {},
   "outputs": [
    {
     "name": "stdout",
     "output_type": "stream",
     "text": [
      "max rank =  1\n"
     ]
    }
   ],
   "source": [
    "communities=communities_from_clusterfile(res.json()['result'],1)"
   ]
  },
  {
   "cell_type": "code",
   "execution_count": null,
   "metadata": {},
   "outputs": [],
   "source": []
  },
  {
   "cell_type": "code",
   "execution_count": 21,
   "metadata": {},
   "outputs": [],
   "source": [
    "import sys\n",
    "import json\n",
    "import ndex2\n",
    "from auto_graph_visualizer.utils import *\n",
    "from auto_graph_visualizer.visualizer import AutoGraphVisualizer"
   ]
  },
  {
   "cell_type": "code",
   "execution_count": 22,
   "metadata": {},
   "outputs": [],
   "source": [
    "options = {\n",
    "        \"graph_name\": \"test_network\",\n",
    "        \"output_file_name\": \"test_out\",\n",
    "        \"algorithm\": \"rest\",\n",
    "        \"color_palette\": \"hls\",\n",
    "        \"nodesize\": \"betweenness\",\n",
    "        \"maxnodesize\": 1000000,\n",
    "        \"density\": \"normal\",\n",
    "        \"positions\": \"fa\",\n",
    "    }\n",
    "\n"
   ]
  },
  {
   "cell_type": "code",
   "execution_count": 23,
   "metadata": {},
   "outputs": [],
   "source": [
    "viz = AutoGraphVisualizer(options,res.json()['result'])"
   ]
  },
  {
   "cell_type": "code",
   "execution_count": 24,
   "metadata": {},
   "outputs": [
    {
     "name": "stderr",
     "output_type": "stream",
     "text": [
      "  0%|          | 0/2000 [00:00<?, ?it/s]"
     ]
    },
    {
     "name": "stdout",
     "output_type": "stream",
     "text": [
      "Generating CX\n",
      "Name: BioGRID: Protein-Protein Interactions (HIV-1)\n",
      "Nodes: 1136\n",
      "Edges: 1324\n",
      "Node Attributes: 3323\n",
      "Edge Attributes: 9268\n",
      "\n"
     ]
    },
    {
     "name": "stderr",
     "output_type": "stream",
     "text": [
      "100%|██████████| 2000/2000 [00:27<00:00, 73.19it/s] \n"
     ]
    },
    {
     "name": "stdout",
     "output_type": "stream",
     "text": [
      "BarnesHut Approximation  took  9.09  seconds\n",
      "Repulsion forces  took  15.28  seconds\n",
      "Gravitational forces  took  0.17  seconds\n",
      "Attraction forces  took  0.01  seconds\n",
      "AdjustSpeedAndApplyForces step  took  0.98  seconds\n",
      "Generating CX\n"
     ]
    }
   ],
   "source": [
    "cx_network = network.to_cx() \n",
    "    \n",
    "cxobj = viz.generate_viz(cx_network)"
   ]
  },
  {
   "cell_type": "code",
   "execution_count": 25,
   "metadata": {},
   "outputs": [
    {
     "name": "stdout",
     "output_type": "stream",
     "text": [
      "apiVersion v1\n",
      "cytoscapeVersion 3.7.2\n",
      "CyREST online!\n"
     ]
    }
   ],
   "source": [
    "from py2cytoscape import cyrest\n",
    "\n",
    "# This should be changed to your host IP\n",
    "host_ip = '127.0.0.1'\n",
    "cytoscape=cyrest.cyclient(host=host_ip)\n",
    "cytoscape.version()\n",
    "cytoscape.status()"
   ]
  },
  {
   "cell_type": "code",
   "execution_count": 26,
   "metadata": {},
   "outputs": [],
   "source": [
    "cytoscape.session.new()"
   ]
  },
  {
   "cell_type": "code",
   "execution_count": 27,
   "metadata": {},
   "outputs": [
    {
     "name": "stdout",
     "output_type": "stream",
     "text": [
      "http://127.0.0.1:1234/cyndex2/v1/networks/cx\n",
      "{'data': {'suid': 52, 'uuid': ''}, 'errors': []}\n"
     ]
    }
   ],
   "source": [
    "import requests\n",
    "\n",
    "cyrest_url = 'http://' + host_ip + ':1234/cyndex2/v1/networks/cx'\n",
    "print(cyrest_url)\n",
    "response = requests.post(cyrest_url, data=json.dumps(cxobj))\n",
    "print(response.json())"
   ]
  },
  {
   "cell_type": "code",
   "execution_count": null,
   "metadata": {},
   "outputs": [],
   "source": []
  }
 ],
 "metadata": {
  "kernelspec": {
   "display_name": "Python 3",
   "language": "python",
   "name": "python3"
  },
  "language_info": {
   "codemirror_mode": {
    "name": "ipython",
    "version": 3
   },
   "file_extension": ".py",
   "mimetype": "text/x-python",
   "name": "python",
   "nbconvert_exporter": "python",
   "pygments_lexer": "ipython3",
   "version": "3.6.8"
  }
 },
 "nbformat": 4,
 "nbformat_minor": 4
}
