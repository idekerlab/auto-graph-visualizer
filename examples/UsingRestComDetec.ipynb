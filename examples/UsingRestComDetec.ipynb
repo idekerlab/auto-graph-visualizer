{
 "cells": [
  {
   "cell_type": "code",
   "execution_count": 1,
   "metadata": {},
   "outputs": [],
   "source": [
    "import os\n",
    "import sys\n",
    "import json\n",
    "import ndex2\n",
    "from ndex2.nice_cx_network import NiceCXNetwork\n",
    "from ndex2.nice_cx_network import DefaultNetworkXFactory\n",
    "import networkx as nx\n",
    "import requests"
   ]
  },
  {
   "cell_type": "code",
   "execution_count": 2,
   "metadata": {},
   "outputs": [],
   "source": [
    "network =  ndex2.create_nice_cx_from_server(server='public.ndexbio.org', uuid='38a9cebf-23dc-11e8-b939-0ac135e8bacf') # (Nodes1127)"
   ]
  },
  {
   "cell_type": "code",
   "execution_count": 3,
   "metadata": {},
   "outputs": [],
   "source": [
    "tmp=set()\n",
    "for e in network.get_edges():\n",
    "    tmp.add(e[1]['s'])\n",
    "    tmp.add(e[1]['t'])\n",
    "tmp_dict={}\n",
    "for i,j in enumerate(tmp):\n",
    "    tmp_dict.update({j:i})"
   ]
  },
  {
   "cell_type": "code",
   "execution_count": 4,
   "metadata": {},
   "outputs": [],
   "source": [
    "edge_data=\"\"\n",
    "for e in network.get_edges():\n",
    "    edge_data+=str(tmp_dict[e[1]['s']])+\"\\t\"+str(tmp_dict[e[1]['t']])+\"\\n\""
   ]
  },
  {
   "cell_type": "code",
   "execution_count": 5,
   "metadata": {},
   "outputs": [],
   "source": [
    "template={\n",
    "          \"algorithm\": \"louvain\",\n",
    "          \"graphdirected\": \"false\",\n",
    "          \"data\": \"\",\n",
    "          \"ipAddress\": \"string\",\n",
    "          \"customParameters\": {\n",
    "            \"additionalProp1\": \"string\",\n",
    "            \"additionalProp2\": \"string\",\n",
    "            \"additionalProp3\": \"string\"\n",
    "          }\n",
    "        }"
   ]
  },
  {
   "cell_type": "code",
   "execution_count": 6,
   "metadata": {},
   "outputs": [],
   "source": [
    "template['data']=edge_data"
   ]
  },
  {
   "cell_type": "code",
   "execution_count": 7,
   "metadata": {},
   "outputs": [
    {
     "name": "stdout",
     "output_type": "stream",
     "text": [
      "Created task. ID: 7fc0fc13-5c7a-40f3-9ce9-2c5c86ef79a4\n"
     ]
    }
   ],
   "source": [
    "res = requests.post('http://ddot.ucsd.edu/cd/communitydetection/v1',json=template)\n",
    "print('Created task. ID: {}'.format(res.json()[\"id\"]))"
   ]
  },
  {
   "cell_type": "code",
   "execution_count": 8,
   "metadata": {},
   "outputs": [
    {
     "data": {
      "text/plain": [
       "'complete'"
      ]
     },
     "execution_count": 8,
     "metadata": {},
     "output_type": "execute_result"
    }
   ],
   "source": [
    "res = requests.get(\"http://ddot.ucsd.edu/cd/communitydetection/v1/\"+res.json()['id'])\n",
    "res.json()['status']"
   ]
  },
  {
   "cell_type": "code",
   "execution_count": 9,
   "metadata": {},
   "outputs": [],
   "source": [
    "if(res.json()['status']!='complete'):\n",
    "    print(\"*********    Calculating!!!!    Wait!!!!!     *********\\n\\n\\n\")"
   ]
  },
  {
   "cell_type": "code",
   "execution_count": 10,
   "metadata": {},
   "outputs": [],
   "source": [
    "import sys\n",
    "import json\n",
    "import ndex2\n",
    "from auto_graph_visualizer.utils import *\n",
    "from auto_graph_visualizer.visualizer import AutoGraphVisualizer"
   ]
  },
  {
   "cell_type": "code",
   "execution_count": 11,
   "metadata": {},
   "outputs": [],
   "source": [
    "options = {\n",
    "        \"graph_name\": \"test_network\",\n",
    "        \"output_file_name\": \"test_out\",\n",
    "        \"algorithm\": \"rest\",\n",
    "        \"color_palette\": \"hls\",\n",
    "        \"nodesize\": \"betweenness\",\n",
    "        \"maxnodesize\": 100,\n",
    "        \"density\": \"normal\",\n",
    "        \"positions\": \"fa\",\n",
    "        \"displaylabels\":20\n",
    "    }\n",
    "\n"
   ]
  },
  {
   "cell_type": "code",
   "execution_count": 12,
   "metadata": {},
   "outputs": [],
   "source": [
    "viz = AutoGraphVisualizer(options,res.json()['result'])"
   ]
  },
  {
   "cell_type": "code",
   "execution_count": 13,
   "metadata": {},
   "outputs": [
    {
     "name": "stdout",
     "output_type": "stream",
     "text": [
      "Generating CX\n",
      "Name: BioGRID: Protein-Protein Interactions (HIV-1)\n",
      "Nodes: 1136\n",
      "Edges: 1324\n",
      "Node Attributes: 3323\n",
      "Edge Attributes: 9268\n",
      "\n"
     ]
    },
    {
     "name": "stderr",
     "output_type": "stream",
     "text": [
      "100%|██████████| 2000/2000 [00:32<00:00, 62.39it/s]\n"
     ]
    },
    {
     "name": "stdout",
     "output_type": "stream",
     "text": [
      "BarnesHut Approximation  took  8.58  seconds\n",
      "Repulsion forces  took  20.51  seconds\n",
      "Gravitational forces  took  0.24  seconds\n",
      "Attraction forces  took  0.03  seconds\n",
      "AdjustSpeedAndApplyForces step  took  1.32  seconds\n",
      "[7262.468978689562, 8295.732502741093, 8404.682072407177, 8404.682072407177, 8404.682072407177, 9781.867007308598, 9781.867007308598, 9781.867007308598, 12871.4814947476, 16870.798610889502, 24617.325025877468, 48738.173828199164, 59507.38703944492, 71122.62603284113, 91086.01650659232, 116561.41613606711, 144358.90191637765, 186562.2106962277, 192783.91515256002, 276280.57042694866]\n",
      "Generating CX\n"
     ]
    }
   ],
   "source": [
    "cx_network = network.to_cx() \n",
    "    \n",
    "cxobj = viz.generate_viz(cx_network)"
   ]
  },
  {
   "cell_type": "code",
   "execution_count": 14,
   "metadata": {},
   "outputs": [
    {
     "name": "stdout",
     "output_type": "stream",
     "text": [
      "apiVersion v1\n",
      "cytoscapeVersion 3.7.1\n",
      "CyREST online!\n"
     ]
    }
   ],
   "source": [
    "from py2cytoscape import cyrest\n",
    "\n",
    "# This should be changed to your host IP\n",
    "host_ip = '192.168.254.19'\n",
    "cytoscape=cyrest.cyclient(host=host_ip)\n",
    "cytoscape.version()\n",
    "cytoscape.status()"
   ]
  },
  {
   "cell_type": "code",
   "execution_count": 15,
   "metadata": {},
   "outputs": [],
   "source": [
    "cytoscape.session.new()"
   ]
  },
  {
   "cell_type": "code",
   "execution_count": 16,
   "metadata": {},
   "outputs": [
    {
     "name": "stdout",
     "output_type": "stream",
     "text": [
      "http://192.168.254.19:1234/cyndex2/v1/networks/cx\n",
      "{'data': {'suid': 4986, 'uuid': ''}, 'errors': []}\n"
     ]
    }
   ],
   "source": [
    "import requests\n",
    "\n",
    "cyrest_url = 'http://' + host_ip + ':1234/cyndex2/v1/networks/cx'\n",
    "print(cyrest_url)\n",
    "response = requests.post(cyrest_url, data=json.dumps(cxobj))\n",
    "print(response.json())"
   ]
  }
 ],
 "metadata": {
  "kernelspec": {
   "display_name": "Python 3",
   "language": "python",
   "name": "python3"
  },
  "language_info": {
   "codemirror_mode": {
    "name": "ipython",
    "version": 3
   },
   "file_extension": ".py",
   "mimetype": "text/x-python",
   "name": "python",
   "nbconvert_exporter": "python",
   "pygments_lexer": "ipython3",
   "version": "3.6.8"
  }
 },
 "nbformat": 4,
 "nbformat_minor": 4
}
